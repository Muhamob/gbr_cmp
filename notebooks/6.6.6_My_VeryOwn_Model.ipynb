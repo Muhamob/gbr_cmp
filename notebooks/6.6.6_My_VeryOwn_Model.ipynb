{
 "cells": [
  {
   "cell_type": "code",
   "execution_count": 100,
   "metadata": {},
   "outputs": [],
   "source": [
    "import pandas as pd\n",
    "import torch\n",
    "\n",
    "from pathlib import Path\n",
    "import sys\n",
    "sys.path.append(\"../../modules/yolov5/\")\n",
    "\n",
    "%load_ext autoreload\n",
    "%autoreload 2"
   ]
  },
  {
   "cell_type": "code",
   "execution_count": 2,
   "metadata": {},
   "outputs": [],
   "source": [
    "data_dir = Path(\"../../data/raw\")\n",
    "images_dir = data_dir / \"train_images\""
   ]
  },
  {
   "cell_type": "code",
   "execution_count": 5,
   "metadata": {},
   "outputs": [
    {
     "data": {
      "text/html": [
       "<div>\n",
       "<style scoped>\n",
       "    .dataframe tbody tr th:only-of-type {\n",
       "        vertical-align: middle;\n",
       "    }\n",
       "\n",
       "    .dataframe tbody tr th {\n",
       "        vertical-align: top;\n",
       "    }\n",
       "\n",
       "    .dataframe thead th {\n",
       "        text-align: right;\n",
       "    }\n",
       "</style>\n",
       "<table border=\"1\" class=\"dataframe\">\n",
       "  <thead>\n",
       "    <tr style=\"text-align: right;\">\n",
       "      <th></th>\n",
       "      <th>video_id</th>\n",
       "      <th>sequence</th>\n",
       "      <th>video_frame</th>\n",
       "      <th>sequence_frame</th>\n",
       "      <th>image_id</th>\n",
       "      <th>annotations</th>\n",
       "      <th>path</th>\n",
       "      <th>bboxes</th>\n",
       "      <th>n_bboxes</th>\n",
       "    </tr>\n",
       "  </thead>\n",
       "  <tbody>\n",
       "    <tr>\n",
       "      <th>21071</th>\n",
       "      <td>2</td>\n",
       "      <td>29859</td>\n",
       "      <td>8330</td>\n",
       "      <td>558</td>\n",
       "      <td>2-8330</td>\n",
       "      <td>[]</td>\n",
       "      <td>/home/isabella/code/competitions/great_barrier...</td>\n",
       "      <td>[]</td>\n",
       "      <td>0</td>\n",
       "    </tr>\n",
       "    <tr>\n",
       "      <th>522</th>\n",
       "      <td>0</td>\n",
       "      <td>45518</td>\n",
       "      <td>915</td>\n",
       "      <td>42</td>\n",
       "      <td>0-915</td>\n",
       "      <td>[]</td>\n",
       "      <td>/home/isabella/code/competitions/great_barrier...</td>\n",
       "      <td>[]</td>\n",
       "      <td>0</td>\n",
       "    </tr>\n",
       "    <tr>\n",
       "      <th>7107</th>\n",
       "      <td>1</td>\n",
       "      <td>60510</td>\n",
       "      <td>399</td>\n",
       "      <td>399</td>\n",
       "      <td>1-399</td>\n",
       "      <td>[]</td>\n",
       "      <td>/home/isabella/code/competitions/great_barrier...</td>\n",
       "      <td>[]</td>\n",
       "      <td>0</td>\n",
       "    </tr>\n",
       "  </tbody>\n",
       "</table>\n",
       "</div>"
      ],
      "text/plain": [
       "       video_id  sequence  video_frame  sequence_frame image_id annotations  \\\n",
       "21071         2     29859         8330             558   2-8330          []   \n",
       "522           0     45518          915              42    0-915          []   \n",
       "7107          1     60510          399             399    1-399          []   \n",
       "\n",
       "                                                    path bboxes  n_bboxes  \n",
       "21071  /home/isabella/code/competitions/great_barrier...     []         0  \n",
       "522    /home/isabella/code/competitions/great_barrier...     []         0  \n",
       "7107   /home/isabella/code/competitions/great_barrier...     []         0  "
      ]
     },
     "execution_count": 5,
     "metadata": {},
     "output_type": "execute_result"
    }
   ],
   "source": [
    "df_train = pd.read_pickle(data_dir / \"train_transformed.pickle\")\n",
    "df_train.sample(3)"
   ]
  },
  {
   "cell_type": "markdown",
   "metadata": {},
   "source": [
    "## Load sample image"
   ]
  },
  {
   "cell_type": "code",
   "execution_count": 43,
   "metadata": {},
   "outputs": [],
   "source": [
    "from PIL import Image\n",
    "\n",
    "image = Image.open(df_train.iloc[10].path)\n",
    "width, height = image.size"
   ]
  },
  {
   "cell_type": "markdown",
   "metadata": {},
   "source": [
    "## Load base model"
   ]
  },
  {
   "cell_type": "code",
   "execution_count": 32,
   "metadata": {},
   "outputs": [],
   "source": [
    "device = 'cpu'\n",
    "\n",
    "weights_path = \"../../weights/yolov5s.pt\"\n",
    "checkpoint = torch.load(weights_path, map_location=device)\n",
    "model = checkpoint['model']"
   ]
  },
  {
   "cell_type": "markdown",
   "metadata": {},
   "source": [
    "## Freeze model layers"
   ]
  },
  {
   "cell_type": "code",
   "execution_count": 31,
   "metadata": {},
   "outputs": [],
   "source": [
    "def freeze_layers(model, n: int):\n",
    "    freeze_layer_names = [f\"model.{i}.\" for i in range(n)]\n",
    "    for k, v in model.named_parameters():\n",
    "        v.requires_grad = True\n",
    "        if any(x in k for x in freeze_layer_names):\n",
    "            print(\"freeze\", k)\n",
    "            v.requires_grad = False\n",
    "            \n",
    "freeze_layers(model, 0)"
   ]
  },
  {
   "cell_type": "markdown",
   "metadata": {},
   "source": [
    "## Verify image is divisible by stride"
   ]
  },
  {
   "cell_type": "code",
   "execution_count": 51,
   "metadata": {},
   "outputs": [],
   "source": [
    "from utils.general import check_img_size\n",
    "\n",
    "grid_size = max(int(model.stride.max()), 32)\n",
    "new_image_size = check_img_size(640, grid_size)"
   ]
  },
  {
   "cell_type": "markdown",
   "metadata": {},
   "source": [
    "# DataLoaders and datasets"
   ]
  },
  {
   "cell_type": "code",
   "execution_count": 62,
   "metadata": {},
   "outputs": [
    {
     "name": "stdout",
     "output_type": "stream",
     "text": [
      "{'names': ['starfish'],\n",
      " 'nc': 1,\n",
      " 'train': '/home/isabella/code/competitions/great_barrier_reef/data/splits/s1/train.txt',\n",
      " 'val': '/home/isabella/code/competitions/great_barrier_reef/data/splits/s1/valid.txt'}\n"
     ]
    }
   ],
   "source": [
    "from pprint import pprint\n",
    "import yaml\n",
    "\n",
    "split_path = Path(\"../../data/splits/s1\")\n",
    "\n",
    "with open(split_path / \"data.yaml\") as f:\n",
    "    data = yaml.load(f, yaml.Loader)\n",
    "    \n",
    "pprint(data)"
   ]
  },
  {
   "cell_type": "code",
   "execution_count": 73,
   "metadata": {},
   "outputs": [
    {
     "name": "stderr",
     "output_type": "stream",
     "text": [
      "train: Scanning '/home/isabella/code/competitions/great_barrier_reef/data/splits/s1/train.cache' images and labels... 46 found, 4 missing, 0 empty, 0 corrupted: 100%|███████████████████████| 50/50 [00:00<?, ?it/s]\n",
      "valid: Scanning '/home/isabella/code/competitions/great_barrier_reef/data/splits/s1/valid.cache' images and labels... 9 found, 29 missing, 0 empty, 0 corrupted: 100%|███████████████████████| 38/38 [00:00<?, ?it/s]\n"
     ]
    }
   ],
   "source": [
    "from utils.datasets import create_dataloader\n",
    "\n",
    "train_dataloader, train_dataset = create_dataloader(\n",
    "    path=data['train'],\n",
    "    imgsz=new_image_size,\n",
    "    batch_size=4, \n",
    "    stride=grid_size, \n",
    "    single_cls=True, \n",
    "    augment=True, \n",
    "    rect=False, \n",
    "    workers=2,\n",
    "    prefix=\"train: \", \n",
    "    shuffle=True\n",
    ")\n",
    "\n",
    "val_dataloader, val_dataset = create_dataloader(\n",
    "    path=data['val'],\n",
    "    imgsz=new_image_size,\n",
    "    batch_size=4, \n",
    "    stride=grid_size, \n",
    "    single_cls=True, \n",
    "    augment=False, \n",
    "    workers=2,\n",
    "    prefix=\"valid: \", \n",
    "    shuffle=True\n",
    ")"
   ]
  },
  {
   "cell_type": "code",
   "execution_count": 89,
   "metadata": {},
   "outputs": [],
   "source": [
    "nl = model.model[-1].nl  # number of detection layers\n",
    "model.nc = 1  # number of classes\n",
    "model.hyp['obj'] *= (new_image_size / 640) ** 2 * 3 / nl  # scale to image size and layers\n",
    "model.names = data['names']"
   ]
  },
  {
   "cell_type": "code",
   "execution_count": 98,
   "metadata": {},
   "outputs": [
    {
     "data": {
      "text/plain": [
       "array([[1, 1, 1, 1, 1, 1, 1, 1, 1, 1, 1],\n",
       "       [0, 0, 0, 0, 0, 0, 0, 0, 0, 0, 0],\n",
       "       [0, 0, 0, 0, 0, 0, 0, 0, 0, 0, 0]])"
      ]
     },
     "execution_count": 98,
     "metadata": {},
     "output_type": "execute_result"
    }
   ],
   "source": [
    "from val import process_batch\n",
    "\n",
    "detections = torch.Tensor([\n",
    "    [0, 0, 0.5, 0.5, 0.7, 0],\n",
    "    [0, 0, 0.4, 0.5, 0.7, 0],\n",
    "    [0, 0, 0.3, 0.5, 0.7, 0],\n",
    "])\n",
    "\n",
    "labels = torch.Tensor([\n",
    "    [0, 0, 0, 0.5, 0.4],\n",
    "    [1, 0.5, 0.5, 0.5, 0.4],\n",
    "])\n",
    "\n",
    "iouv = torch.linspace(0.3, 0.8, 11)\n",
    "\n",
    "process_batch(detections, labels, iouv).numpy().astype(int)"
   ]
  },
  {
   "cell_type": "code",
   "execution_count": 101,
   "metadata": {},
   "outputs": [],
   "source": [
    "from utils.metrics import box_iou\n",
    "\n",
    "iou = box_iou(labels[:, 1:], detections[:, :4])"
   ]
  },
  {
   "cell_type": "code",
   "execution_count": 107,
   "metadata": {},
   "outputs": [],
   "source": [
    "x = torch.where((iou >= iouv[0]) & (labels[:, 0:1] == detections[:, 5]))"
   ]
  },
  {
   "cell_type": "code",
   "execution_count": 108,
   "metadata": {},
   "outputs": [],
   "source": [
    "matches = torch.cat((torch.stack(x, 1), iou[x[0], x[1]][:, None]), 1).cpu().numpy()"
   ]
  },
  {
   "cell_type": "code",
   "execution_count": 109,
   "metadata": {},
   "outputs": [
    {
     "data": {
      "text/plain": [
       "array([[          0,           0,         0.8],\n",
       "       [          0,           1,     0.66667],\n",
       "       [          0,           2,     0.52174]], dtype=float32)"
      ]
     },
     "execution_count": 109,
     "metadata": {},
     "output_type": "execute_result"
    }
   ],
   "source": [
    "matches"
   ]
  },
  {
   "cell_type": "code",
   "execution_count": 104,
   "metadata": {},
   "outputs": [
    {
     "data": {
      "text/plain": [
       "tensor([[0.80000, 0.66667, 0.52174],\n",
       "        [0.00000, 0.00000, 0.00000]])"
      ]
     },
     "execution_count": 104,
     "metadata": {},
     "output_type": "execute_result"
    }
   ],
   "source": [
    "iou"
   ]
  }
 ],
 "metadata": {
  "kernelspec": {
   "display_name": "great-barrier-reef",
   "language": "python",
   "name": "great-barrier-reef"
  },
  "language_info": {
   "codemirror_mode": {
    "name": "ipython",
    "version": 3
   },
   "file_extension": ".py",
   "mimetype": "text/x-python",
   "name": "python",
   "nbconvert_exporter": "python",
   "pygments_lexer": "ipython3",
   "version": "3.7.6"
  }
 },
 "nbformat": 4,
 "nbformat_minor": 4
}
